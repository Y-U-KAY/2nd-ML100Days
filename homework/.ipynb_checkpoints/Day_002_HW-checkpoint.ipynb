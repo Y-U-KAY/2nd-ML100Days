{
 "cells": [
  {
   "cell_type": "markdown",
   "metadata": {},
   "source": [
    "## 練習時間\n",
    "\n",
    "#### 資料的 row 數以及 column 數、有什麼欄位、多少欄位、如何截取部分的資料等等\n",
    "\n",
    "#### 可參考該[基礎教材](https://bookdata.readthedocs.io/en/latest/base/01_pandas.html#DataFrame-%E5%85%A5%E9%97%A8)或自行 google"
   ]
  },
  {
   "cell_type": "code",
   "execution_count": 75,
   "metadata": {},
   "outputs": [],
   "source": [
    "import os\n",
    "import numpy as np\n",
    "import pandas as pd\n",
    "from sklearn.impute import SimpleImputer"
   ]
  },
  {
   "cell_type": "code",
   "execution_count": 76,
   "metadata": {},
   "outputs": [],
   "source": [
    "# 設定 data_path\n",
    "dir_data = './data/'"
   ]
  },
  {
   "cell_type": "code",
   "execution_count": 77,
   "metadata": {},
   "outputs": [
    {
     "name": "stdout",
     "output_type": "stream",
     "text": [
      "Path of read in data: ./data/application_train.csv\n"
     ]
    }
   ],
   "source": [
    "f_app = os.path.join(dir_data, 'application_train.csv')\n",
    "print('Path of read in data: %s' % (f_app))\n",
    "app_train = pd.read_csv(f_app)"
   ]
  },
  {
   "cell_type": "markdown",
   "metadata": {},
   "source": [
    "#### 資料的 row 數以及 column 數"
   ]
  },
  {
   "cell_type": "code",
   "execution_count": 78,
   "metadata": {},
   "outputs": [
    {
     "name": "stdout",
     "output_type": "stream",
     "text": [
      "Columns = 307511\n",
      "Rows = 122\n"
     ]
    }
   ],
   "source": [
    "(nrow, ncol) = app_train.shape\n",
    "print('Columns = %d' % nrow)\n",
    "print('Rows = %d' % ncol)"
   ]
  },
  {
   "cell_type": "markdown",
   "metadata": {},
   "source": [
    "#### 列出所有欄位"
   ]
  },
  {
   "cell_type": "code",
   "execution_count": 79,
   "metadata": {},
   "outputs": [
    {
     "data": {
      "text/plain": [
       "Index(['SK_ID_CURR', 'TARGET', 'NAME_CONTRACT_TYPE', 'CODE_GENDER',\n",
       "       'FLAG_OWN_CAR', 'FLAG_OWN_REALTY', 'CNT_CHILDREN', 'AMT_INCOME_TOTAL',\n",
       "       'AMT_CREDIT', 'AMT_ANNUITY',\n",
       "       ...\n",
       "       'FLAG_DOCUMENT_18', 'FLAG_DOCUMENT_19', 'FLAG_DOCUMENT_20',\n",
       "       'FLAG_DOCUMENT_21', 'AMT_REQ_CREDIT_BUREAU_HOUR',\n",
       "       'AMT_REQ_CREDIT_BUREAU_DAY', 'AMT_REQ_CREDIT_BUREAU_WEEK',\n",
       "       'AMT_REQ_CREDIT_BUREAU_MON', 'AMT_REQ_CREDIT_BUREAU_QRT',\n",
       "       'AMT_REQ_CREDIT_BUREAU_YEAR'],\n",
       "      dtype='object', length=122)"
      ]
     },
     "execution_count": 79,
     "metadata": {},
     "output_type": "execute_result"
    }
   ],
   "source": [
    "app_train.columns"
   ]
  },
  {
   "cell_type": "markdown",
   "metadata": {},
   "source": [
    "#### 截取部分資料"
   ]
  },
  {
   "cell_type": "code",
   "execution_count": 80,
   "metadata": {},
   "outputs": [
    {
     "data": {
      "text/html": [
       "<div>\n",
       "<style scoped>\n",
       "    .dataframe tbody tr th:only-of-type {\n",
       "        vertical-align: middle;\n",
       "    }\n",
       "\n",
       "    .dataframe tbody tr th {\n",
       "        vertical-align: top;\n",
       "    }\n",
       "\n",
       "    .dataframe thead th {\n",
       "        text-align: right;\n",
       "    }\n",
       "</style>\n",
       "<table border=\"1\" class=\"dataframe\">\n",
       "  <thead>\n",
       "    <tr style=\"text-align: right;\">\n",
       "      <th></th>\n",
       "      <th>SK_ID_CURR</th>\n",
       "      <th>DAYS_ID_PUBLISH</th>\n",
       "      <th>ORGANIZATION_TYPE</th>\n",
       "      <th>YEARS_BEGINEXPLUATATION_MODE</th>\n",
       "      <th>FLOORSMIN_MEDI</th>\n",
       "    </tr>\n",
       "  </thead>\n",
       "  <tbody>\n",
       "    <tr>\n",
       "      <th>0</th>\n",
       "      <td>100002</td>\n",
       "      <td>-2120</td>\n",
       "      <td>Business Entity Type 3</td>\n",
       "      <td>0.9722</td>\n",
       "      <td>0.1250</td>\n",
       "    </tr>\n",
       "    <tr>\n",
       "      <th>3</th>\n",
       "      <td>100006</td>\n",
       "      <td>-2437</td>\n",
       "      <td>Business Entity Type 3</td>\n",
       "      <td>NaN</td>\n",
       "      <td>NaN</td>\n",
       "    </tr>\n",
       "    <tr>\n",
       "      <th>6</th>\n",
       "      <td>100009</td>\n",
       "      <td>-619</td>\n",
       "      <td>Business Entity Type 3</td>\n",
       "      <td>NaN</td>\n",
       "      <td>NaN</td>\n",
       "    </tr>\n",
       "    <tr>\n",
       "      <th>9</th>\n",
       "      <td>100012</td>\n",
       "      <td>-3992</td>\n",
       "      <td>Electricity</td>\n",
       "      <td>NaN</td>\n",
       "      <td>NaN</td>\n",
       "    </tr>\n",
       "    <tr>\n",
       "      <th>12</th>\n",
       "      <td>100016</td>\n",
       "      <td>-3227</td>\n",
       "      <td>Business Entity Type 2</td>\n",
       "      <td>0.9811</td>\n",
       "      <td>NaN</td>\n",
       "    </tr>\n",
       "    <tr>\n",
       "      <th>15</th>\n",
       "      <td>100019</td>\n",
       "      <td>-1368</td>\n",
       "      <td>Business Entity Type 2</td>\n",
       "      <td>NaN</td>\n",
       "      <td>NaN</td>\n",
       "    </tr>\n",
       "    <tr>\n",
       "      <th>18</th>\n",
       "      <td>100022</td>\n",
       "      <td>-1259</td>\n",
       "      <td>Housing</td>\n",
       "      <td>0.9881</td>\n",
       "      <td>0.1250</td>\n",
       "    </tr>\n",
       "    <tr>\n",
       "      <th>21</th>\n",
       "      <td>100025</td>\n",
       "      <td>-2299</td>\n",
       "      <td>Trade: type 7</td>\n",
       "      <td>NaN</td>\n",
       "      <td>NaN</td>\n",
       "    </tr>\n",
       "    <tr>\n",
       "      <th>24</th>\n",
       "      <td>100029</td>\n",
       "      <td>-3729</td>\n",
       "      <td>Business Entity Type 3</td>\n",
       "      <td>0.9861</td>\n",
       "      <td>0.2083</td>\n",
       "    </tr>\n",
       "    <tr>\n",
       "      <th>27</th>\n",
       "      <td>100032</td>\n",
       "      <td>-3153</td>\n",
       "      <td>Industry: type 11</td>\n",
       "      <td>NaN</td>\n",
       "      <td>NaN</td>\n",
       "    </tr>\n",
       "    <tr>\n",
       "      <th>30</th>\n",
       "      <td>100035</td>\n",
       "      <td>-3787</td>\n",
       "      <td>Business Entity Type 3</td>\n",
       "      <td>0.9697</td>\n",
       "      <td>NaN</td>\n",
       "    </tr>\n",
       "    <tr>\n",
       "      <th>33</th>\n",
       "      <td>100039</td>\n",
       "      <td>-3557</td>\n",
       "      <td>Self-employed</td>\n",
       "      <td>NaN</td>\n",
       "      <td>NaN</td>\n",
       "    </tr>\n",
       "    <tr>\n",
       "      <th>36</th>\n",
       "      <td>100043</td>\n",
       "      <td>-735</td>\n",
       "      <td>Other</td>\n",
       "      <td>NaN</td>\n",
       "      <td>NaN</td>\n",
       "    </tr>\n",
       "    <tr>\n",
       "      <th>39</th>\n",
       "      <td>100046</td>\n",
       "      <td>-4292</td>\n",
       "      <td>Business Entity Type 3</td>\n",
       "      <td>0.9831</td>\n",
       "      <td>0.2083</td>\n",
       "    </tr>\n",
       "    <tr>\n",
       "      <th>42</th>\n",
       "      <td>100049</td>\n",
       "      <td>-4409</td>\n",
       "      <td>Self-employed</td>\n",
       "      <td>NaN</td>\n",
       "      <td>NaN</td>\n",
       "    </tr>\n",
       "    <tr>\n",
       "      <th>45</th>\n",
       "      <td>100052</td>\n",
       "      <td>-642</td>\n",
       "      <td>Self-employed</td>\n",
       "      <td>NaN</td>\n",
       "      <td>NaN</td>\n",
       "    </tr>\n",
       "    <tr>\n",
       "      <th>48</th>\n",
       "      <td>100055</td>\n",
       "      <td>-3199</td>\n",
       "      <td>Government</td>\n",
       "      <td>NaN</td>\n",
       "      <td>NaN</td>\n",
       "    </tr>\n",
       "  </tbody>\n",
       "</table>\n",
       "</div>"
      ],
      "text/plain": [
       "    SK_ID_CURR  DAYS_ID_PUBLISH       ORGANIZATION_TYPE  \\\n",
       "0       100002            -2120  Business Entity Type 3   \n",
       "3       100006            -2437  Business Entity Type 3   \n",
       "6       100009             -619  Business Entity Type 3   \n",
       "9       100012            -3992             Electricity   \n",
       "12      100016            -3227  Business Entity Type 2   \n",
       "15      100019            -1368  Business Entity Type 2   \n",
       "18      100022            -1259                 Housing   \n",
       "21      100025            -2299           Trade: type 7   \n",
       "24      100029            -3729  Business Entity Type 3   \n",
       "27      100032            -3153       Industry: type 11   \n",
       "30      100035            -3787  Business Entity Type 3   \n",
       "33      100039            -3557           Self-employed   \n",
       "36      100043             -735                   Other   \n",
       "39      100046            -4292  Business Entity Type 3   \n",
       "42      100049            -4409           Self-employed   \n",
       "45      100052             -642           Self-employed   \n",
       "48      100055            -3199              Government   \n",
       "\n",
       "    YEARS_BEGINEXPLUATATION_MODE  FLOORSMIN_MEDI  \n",
       "0                         0.9722          0.1250  \n",
       "3                            NaN             NaN  \n",
       "6                            NaN             NaN  \n",
       "9                            NaN             NaN  \n",
       "12                        0.9811             NaN  \n",
       "15                           NaN             NaN  \n",
       "18                        0.9881          0.1250  \n",
       "21                           NaN             NaN  \n",
       "24                        0.9861          0.2083  \n",
       "27                           NaN             NaN  \n",
       "30                        0.9697             NaN  \n",
       "33                           NaN             NaN  \n",
       "36                           NaN             NaN  \n",
       "39                        0.9831          0.2083  \n",
       "42                           NaN             NaN  \n",
       "45                           NaN             NaN  \n",
       "48                           NaN             NaN  "
      ]
     },
     "execution_count": 80,
     "metadata": {},
     "output_type": "execute_result"
    }
   ],
   "source": [
    "data = app_train.iloc[0:50:3, 0:100:20]\n",
    "data"
   ]
  },
  {
   "cell_type": "markdown",
   "metadata": {},
   "source": [
    "#### 還有各種數之不盡的資料操作，重點還是取決於實務中遇到的狀況和你想問的問題，在馬拉松中我們也會陸續提到更多例子  \n",
    "處理NaN\n",
    "插入新值替代NaN，避免直接刪除列造成重要資料遺失或著替換值造成誤差"
   ]
  },
  {
   "cell_type": "code",
   "execution_count": 81,
   "metadata": {},
   "outputs": [
    {
     "name": "stdout",
     "output_type": "stream",
     "text": [
      "Original data: \n",
      "\n",
      "    SK_ID_CURR       ORGANIZATION_TYPE  FLOORSMIN_MEDI\n",
      "0       100002  Business Entity Type 3          0.1250\n",
      "3       100006  Business Entity Type 3             NaN\n",
      "6       100009  Business Entity Type 3             NaN\n",
      "9       100012             Electricity             NaN\n",
      "12      100016  Business Entity Type 2             NaN\n",
      "15      100019  Business Entity Type 2             NaN\n",
      "18      100022                 Housing          0.1250\n",
      "21      100025           Trade: type 7             NaN\n",
      "24      100029  Business Entity Type 3          0.2083\n",
      "27      100032       Industry: type 11             NaN\n",
      "30      100035  Business Entity Type 3             NaN\n",
      "33      100039           Self-employed             NaN\n",
      "36      100043                   Other             NaN\n",
      "39      100046  Business Entity Type 3          0.2083\n",
      "42      100049           Self-employed             NaN\n",
      "45      100052           Self-employed             NaN\n",
      "48      100055              Government             NaN\n",
      "\n",
      "\n",
      "After all:\n",
      "   SK_ID_CURR       ORGANIZATION_TYPE FLOORSMIN_MEDI FLOORSMIN_MEDI_was_NaN\n",
      "0      100002  Business Entity Type 3          0.125                      0\n",
      "1      100006  Business Entity Type 3              0                      1\n",
      "2      100009  Business Entity Type 3              0                      1\n",
      "3      100012             Electricity              0                      1\n",
      "4      100016  Business Entity Type 2              0                      1\n",
      "5      100019  Business Entity Type 2              0                      1\n",
      "6      100022                 Housing          0.125                      0\n",
      "7      100025           Trade: type 7              0                      1\n",
      "8      100029  Business Entity Type 3         0.2083                      0\n",
      "9      100032       Industry: type 11              0                      1\n",
      "10     100035  Business Entity Type 3              0                      1\n",
      "11     100039           Self-employed              0                      1\n",
      "12     100043                   Other              0                      1\n",
      "13     100046  Business Entity Type 3         0.2083                      0\n",
      "14     100049           Self-employed              0                      1\n",
      "15     100052           Self-employed              0                      1\n",
      "16     100055              Government              0                      1\n"
     ]
    }
   ],
   "source": [
    "new_data = app_train.iloc[0:50:3, 0:100:40]\n",
    "print('Original data: \\n')\n",
    "print (new_data)\n",
    "# 增加行代表NaN（True/False）\n",
    "missing_col = (col for col in new_data.columns \n",
    "                                 if new_data[col].isnull().any())\n",
    "for col in missing_col:\n",
    "    new_data[col + '_was_NaN'] = new_data[col].isnull()*1\n",
    "\n",
    "# Imputation\n",
    "my_imputer = SimpleImputer(missing_values=np.nan, strategy='constant', fill_value=0.0)\n",
    "data_imputed = my_imputer.fit_transform(new_data)\n",
    "\n",
    "# array转换成df\n",
    "df_data_imputed = pd.DataFrame(data_imputed,columns=new_data.columns)\n",
    "print('\\n\\nAfter all:')\n",
    "print (df_data_imputed)"
   ]
  }
 ],
 "metadata": {
  "kernelspec": {
   "display_name": "Python 3",
   "language": "python",
   "name": "python3"
  },
  "language_info": {
   "codemirror_mode": {
    "name": "ipython",
    "version": 3
   },
   "file_extension": ".py",
   "mimetype": "text/x-python",
   "name": "python",
   "nbconvert_exporter": "python",
   "pygments_lexer": "ipython3",
   "version": "3.7.1"
  }
 },
 "nbformat": 4,
 "nbformat_minor": 2
}
