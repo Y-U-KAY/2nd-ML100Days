{
 "cells": [
  {
   "cell_type": "markdown",
   "metadata": {},
   "source": [
    "### 作業1：##\n",
    "\n",
    "Coffee Beans Reviews by Coffee Quality Institute  \n",
    "https://www.kaggle.com/ankurchavda/coffee-beans-reviews-by-coffee-quality-institute#Coffee-modified.csv\n",
    "\n",
    "#### 1. 你選的這組資料為何重要\n",
    "\n",
    "    業者在成本考慮外，也須將咖啡質量與口感放入考量。可根據客戶群的喜好挑選因應的咖啡豆品質、特定時段的價格調整配套活動和推薦飲品的選擇等。\n",
    "#### 2. 資料從何而來 (tips: 譬如提供者是誰、以什麼方式蒐集)\n",
    "\n",
    "    Coffee Quality Institute's trained reviewers\n",
    "#### 3. 蒐集而來的資料型態為何\n",
    "\n",
    "    物種(String)、種植地(String)、方法(String)、香氣(Float)、口感(Float)、甜度(Float)等\n",
    "#### 4. 這組資料想解決的問題如何評估\n",
    "\n",
    "    依季節、天氣與市調客戶群的喜好，做迴歸分析，制定菜單與推薦飲品。"
   ]
  },
  {
   "cell_type": "markdown",
   "metadata": {},
   "source": [
    "### 作業2：##\n",
    "\n",
    "自由載客車隊，數據分析以提升業績的分析/解決方案：\n",
    "\n",
    "\n",
    "#### 1. 核心問題為何 (tips：如何定義 「提升業績 & 你的假設」)\n",
    "\n",
    "    將客戶分為兩類，固定需求與臨時需求。希望鞏固固定需求的客戶與臨時需求數量的預期分配，提升整體業績。在自然環境的影響下，預期在天氣不佳和溫度愈高或越低，會有載客率的提升。還有在特定地點、時間，或有舉辦活動的提點會有大量的需求。除了整體業績，也希望針對個人業績也能有所提升。以客戶回饋、預期心理去評估司機品質與適合的司機分布狀況。  \n",
    "#### 2. 資料從何而來 (tips：哪些資料可能會對你想問的問題產生影響 & 資料如何蒐集)\n",
    "\n",
    "   1. 天氣-氣象局\n",
    "   2. 地點型態與歷史客戶數波動-google地圖與歷史時間與地點的客戶分布狀況\n",
    "   3. 司機個人的載客數、地點與客人會饋\n",
    "\n",
    "#### 3. 蒐集而來的資料型態為何\n",
    "\n",
    "   1. 時間(DataTime)\n",
    "   2. 地點座標(Float)\n",
    "   3. 客戶數量(Int)\n",
    "   4. 金額(Int) - 可劃分長程短程\n",
    "   5. 氣候(String)\n",
    "   6. 溫度(Float)\n",
    "   7. 特別活動(String)\n",
    "\n",
    "#### 4. 你要回答的問題，其如何評估 (tips：你的假設如何驗證)\n",
    "\n",
    "   1. 分析每個地點在不同時間的叫車需求，分配區域的車輛數，不僅能已達到客戶的即時需求，也能符合客戶的預期心理、提升滿意度，可以增加顧客回籠率。\n",
    "    \n",
    "   2. 假設大多數人都會希望與習慣的司機合作，提供每位司機個人的區域與時間業績分布圖，給予有效的載客時間，提供司機的服務時間、地點建議，提升個人的業績。\n",
    "    \n",
    "   3. 分析天氣、溫度與叫客數，台灣濕度高，當溫度到達一定程度，客戶會增加，相對涼爽的天氣，客戶也會有所浮動。\n",
    "    \n",
    "   4. 分析地點的特性。例如，廟宇的時間性活動、提供場地的活動公司與大賣場的促銷活動等，客戶需求增加、集中。"
   ]
  },
  {
   "cell_type": "markdown",
   "metadata": {},
   "source": [
    "### 作業3：##"
   ]
  },
  {
   "cell_type": "code",
   "execution_count": 10,
   "metadata": {},
   "outputs": [],
   "source": [
    "import numpy as np\n",
    "import matplotlib.pyplot as plt"
   ]
  },
  {
   "cell_type": "code",
   "execution_count": 11,
   "metadata": {},
   "outputs": [],
   "source": [
    "def mean_absolute_error(y, yp):\n",
    "    \"\"\"\n",
    "    計算 MAE\n",
    "    Args:\n",
    "        - y: 實際值\n",
    "        - yp: 預測值\n",
    "    Return:\n",
    "        - mae: MAE\n",
    "    \"\"\"\n",
    "    mae = MAE = sum(abs(y - yp)) / len(y)\n",
    "    return mae"
   ]
  },
  {
   "cell_type": "code",
   "execution_count": 12,
   "metadata": {},
   "outputs": [],
   "source": [
    "def mean_squared_error(y, yp):\n",
    "    \"\"\"\n",
    "    計算 MSE\n",
    "    Args:\n",
    "        - y: 實際值\n",
    "        - yp: 預測值\n",
    "    Return:\n",
    "        - mae: MSE\n",
    "    \"\"\"\n",
    "    mse = MSE = (abs(y - yp)**2).mean()\n",
    "    return mse"
   ]
  },
  {
   "cell_type": "code",
   "execution_count": 13,
   "metadata": {},
   "outputs": [
    {
     "data": {
      "image/png": "[encoded data removed]",
      "text/plain": [
       "<Figure size 432x288 with 1 Axes>"
      ]
     },
     "metadata": {
      "needs_background": "light"
     },
     "output_type": "display_data"
    }
   ],
   "source": [
    "w = 3\n",
    "b = 0.5\n",
    "\n",
    "x_lin = np.linspace(0, 100, 101)\n",
    "\n",
    "y = (x_lin + np.random.randn(101) * 5) * w + b\n",
    "\n",
    "plt.plot(x_lin, y, 'b.', label = 'data points')\n",
    "plt.title(\"Assume we have data points\")\n",
    "plt.legend(loc = 2)\n",
    "plt.show()"
   ]
  },
  {
   "cell_type": "code",
   "execution_count": 14,
   "metadata": {},
   "outputs": [
    {
     "data": {
      "image/png": "[encoded data removed]",
      "text/plain": [
       "<Figure size 432x288 with 1 Axes>"
      ]
     },
     "metadata": {
      "needs_background": "light"
     },
     "output_type": "display_data"
    }
   ],
   "source": [
    "y_hat = x_lin * w + b\n",
    "plt.plot(x_lin, y, 'b.', label = 'data')\n",
    "plt.plot(x_lin, y_hat, 'r-', label = 'prediction')\n",
    "plt.title(\"Assume we have data points (And the prediction)\")\n",
    "plt.legend(loc = 2)\n",
    "plt.show()"
   ]
  },
  {
   "cell_type": "code",
   "execution_count": 15,
   "metadata": {},
   "outputs": [
    {
     "name": "stdout",
     "output_type": "stream",
     "text": [
      "The Mean squared error is 220.500\n",
      "The Mean absolute error is 11.947\n"
     ]
    }
   ],
   "source": [
    "# 執行 Function, 確認有沒有正常執行\n",
    "MSE = mean_squared_error(y, y_hat)\n",
    "MAE = mean_absolute_error(y, y_hat)\n",
    "print(\"The Mean squared error is %.3f\" % (MSE))\n",
    "print(\"The Mean absolute error is %.3f\" % (MAE))"
   ]
  }
 ],
 "metadata": {
  "kernelspec": {
   "display_name": "Python 3",
   "language": "python",
   "name": "python3"
  },
  "language_info": {
   "codemirror_mode": {
    "name": "ipython",
    "version": 3
   },
   "file_extension": ".py",
   "mimetype": "text/x-python",
   "name": "python",
   "nbconvert_exporter": "python",
   "pygments_lexer": "ipython3",
   "version": "3.7.1"
  }
 },
 "nbformat": 4,
 "nbformat_minor": 2
}
